{
 "metadata": {
  "language_info": {
   "codemirror_mode": {
    "name": "ipython",
    "version": 3
   },
   "file_extension": ".py",
   "mimetype": "text/x-python",
   "name": "python",
   "nbconvert_exporter": "python",
   "pygments_lexer": "ipython3",
   "version": "3.8.2-final"
  },
  "orig_nbformat": 2,
  "kernelspec": {
   "name": "python3",
   "display_name": "Python 3.8.2 64-bit ('venv')",
   "metadata": {
    "interpreter": {
     "hash": "f0c614eab4c631daf7156d33d7a54e5808f9fb163d192e6189f02763544d0fc7"
    }
   }
  }
 },
 "nbformat": 4,
 "nbformat_minor": 2,
 "cells": [
  {
   "cell_type": "code",
   "execution_count": 1,
   "metadata": {},
   "outputs": [
    {
     "output_type": "execute_result",
     "data": {
      "text/plain": [
       "     Survived  Pclass   Age  SibSp  Parch      Fare  Embarked  is_test  \\\n",
       "0         0.0       3  22.0      1      0    7.2500         0        0   \n",
       "1         1.0       1  38.0      1      0   71.2833         1        0   \n",
       "2         1.0       3  26.0      0      0    7.9250         0        0   \n",
       "3         1.0       1  35.0      1      0   53.1000         0        0   \n",
       "4         0.0       3  35.0      0      0    8.0500         0        0   \n",
       "..        ...     ...   ...    ...    ...       ...       ...      ...   \n",
       "413       NaN       3  28.0      0      0    8.0500         0        1   \n",
       "414       NaN       1  39.0      0      0  108.9000         1        1   \n",
       "415       NaN       3  38.5      0      0    7.2500         0        1   \n",
       "416       NaN       3  28.0      0      0    8.0500         0        1   \n",
       "417       NaN       3  28.0      1      1   22.3583         1        1   \n",
       "\n",
       "     NameWordCount  CabinNumber  TicketNumber  Sex_female  Sex_male  \\\n",
       "0                4           -1         21171           0         1   \n",
       "1                7           85         17599           1         0   \n",
       "2                3           -1       3101282           1         0   \n",
       "3                7          123        113803           1         0   \n",
       "4                4           -1        373450           0         1   \n",
       "..             ...          ...           ...         ...       ...   \n",
       "413              3           -1          3236           0         1   \n",
       "414              5          105         17758           1         0   \n",
       "415              4           -1       3101262           0         1   \n",
       "416              3           -1        359309           0         1   \n",
       "417              4           -1          2668           0         1   \n",
       "\n",
       "     Personal Title_  Personal Title_dr.  Personal Title_mr.  \\\n",
       "0                  0                   0                   1   \n",
       "1                  0                   0                   0   \n",
       "2                  1                   0                   0   \n",
       "3                  0                   0                   0   \n",
       "4                  0                   0                   1   \n",
       "..               ...                 ...                 ...   \n",
       "413                0                   0                   1   \n",
       "414                1                   0                   0   \n",
       "415                0                   0                   1   \n",
       "416                0                   0                   1   \n",
       "417                1                   0                   0   \n",
       "\n",
       "     Personal Title_mrs.  Personal Title_ms.  CabinInitChar_  CabinInitChar_A  \\\n",
       "0                      0                   0               1                0   \n",
       "1                      1                   0               0                0   \n",
       "2                      0                   0               1                0   \n",
       "3                      1                   0               0                0   \n",
       "4                      0                   0               1                0   \n",
       "..                   ...                 ...             ...              ...   \n",
       "413                    0                   0               1                0   \n",
       "414                    0                   0               0                0   \n",
       "415                    0                   0               1                0   \n",
       "416                    0                   0               1                0   \n",
       "417                    0                   0               1                0   \n",
       "\n",
       "     CabinInitChar_B  CabinInitChar_C  CabinInitChar_D  CabinInitChar_E  \\\n",
       "0                  0                0                0                0   \n",
       "1                  0                1                0                0   \n",
       "2                  0                0                0                0   \n",
       "3                  0                1                0                0   \n",
       "4                  0                0                0                0   \n",
       "..               ...              ...              ...              ...   \n",
       "413                0                0                0                0   \n",
       "414                0                1                0                0   \n",
       "415                0                0                0                0   \n",
       "416                0                0                0                0   \n",
       "417                0                0                0                0   \n",
       "\n",
       "     CabinInitChar_F  CabinInitChar_G  CabinInitChar_T  TicketPrefix_  \\\n",
       "0                  0                0                0              0   \n",
       "1                  0                0                0              0   \n",
       "2                  0                0                0              0   \n",
       "3                  0                0                0              1   \n",
       "4                  0                0                0              1   \n",
       "..               ...              ...              ...            ...   \n",
       "413                0                0                0              0   \n",
       "414                0                0                0              0   \n",
       "415                0                0                0              0   \n",
       "416                0                0                0              1   \n",
       "417                0                0                0              1   \n",
       "\n",
       "     TicketPrefix_a  TicketPrefix_c  TicketPrefix_f  TicketPrefix_l  \\\n",
       "0                 1               0               0               0   \n",
       "1                 0               0               0               0   \n",
       "2                 0               0               0               0   \n",
       "3                 0               0               0               0   \n",
       "4                 0               0               0               0   \n",
       "..              ...             ...             ...             ...   \n",
       "413               1               0               0               0   \n",
       "414               0               0               0               0   \n",
       "415               0               0               0               0   \n",
       "416               0               0               0               0   \n",
       "417               0               0               0               0   \n",
       "\n",
       "     TicketPrefix_p  TicketPrefix_s  TicketPrefix_w  \n",
       "0                 0               0               0  \n",
       "1                 1               0               0  \n",
       "2                 0               1               0  \n",
       "3                 0               0               0  \n",
       "4                 0               0               0  \n",
       "..              ...             ...             ...  \n",
       "413               0               0               0  \n",
       "414               1               0               0  \n",
       "415               0               1               0  \n",
       "416               0               0               0  \n",
       "417               0               0               0  \n",
       "\n",
       "[1309 rows x 35 columns]"
      ],
      "text/html": "<div>\n<style scoped>\n    .dataframe tbody tr th:only-of-type {\n        vertical-align: middle;\n    }\n\n    .dataframe tbody tr th {\n        vertical-align: top;\n    }\n\n    .dataframe thead th {\n        text-align: right;\n    }\n</style>\n<table border=\"1\" class=\"dataframe\">\n  <thead>\n    <tr style=\"text-align: right;\">\n      <th></th>\n      <th>Survived</th>\n      <th>Pclass</th>\n      <th>Age</th>\n      <th>SibSp</th>\n      <th>Parch</th>\n      <th>Fare</th>\n      <th>Embarked</th>\n      <th>is_test</th>\n      <th>NameWordCount</th>\n      <th>CabinNumber</th>\n      <th>TicketNumber</th>\n      <th>Sex_female</th>\n      <th>Sex_male</th>\n      <th>Personal Title_</th>\n      <th>Personal Title_dr.</th>\n      <th>Personal Title_mr.</th>\n      <th>Personal Title_mrs.</th>\n      <th>Personal Title_ms.</th>\n      <th>CabinInitChar_</th>\n      <th>CabinInitChar_A</th>\n      <th>CabinInitChar_B</th>\n      <th>CabinInitChar_C</th>\n      <th>CabinInitChar_D</th>\n      <th>CabinInitChar_E</th>\n      <th>CabinInitChar_F</th>\n      <th>CabinInitChar_G</th>\n      <th>CabinInitChar_T</th>\n      <th>TicketPrefix_</th>\n      <th>TicketPrefix_a</th>\n      <th>TicketPrefix_c</th>\n      <th>TicketPrefix_f</th>\n      <th>TicketPrefix_l</th>\n      <th>TicketPrefix_p</th>\n      <th>TicketPrefix_s</th>\n      <th>TicketPrefix_w</th>\n    </tr>\n  </thead>\n  <tbody>\n    <tr>\n      <th>0</th>\n      <td>0.0</td>\n      <td>3</td>\n      <td>22.0</td>\n      <td>1</td>\n      <td>0</td>\n      <td>7.2500</td>\n      <td>0</td>\n      <td>0</td>\n      <td>4</td>\n      <td>-1</td>\n      <td>21171</td>\n      <td>0</td>\n      <td>1</td>\n      <td>0</td>\n      <td>0</td>\n      <td>1</td>\n      <td>0</td>\n      <td>0</td>\n      <td>1</td>\n      <td>0</td>\n      <td>0</td>\n      <td>0</td>\n      <td>0</td>\n      <td>0</td>\n      <td>0</td>\n      <td>0</td>\n      <td>0</td>\n      <td>0</td>\n      <td>1</td>\n      <td>0</td>\n      <td>0</td>\n      <td>0</td>\n      <td>0</td>\n      <td>0</td>\n      <td>0</td>\n    </tr>\n    <tr>\n      <th>1</th>\n      <td>1.0</td>\n      <td>1</td>\n      <td>38.0</td>\n      <td>1</td>\n      <td>0</td>\n      <td>71.2833</td>\n      <td>1</td>\n      <td>0</td>\n      <td>7</td>\n      <td>85</td>\n      <td>17599</td>\n      <td>1</td>\n      <td>0</td>\n      <td>0</td>\n      <td>0</td>\n      <td>0</td>\n      <td>1</td>\n      <td>0</td>\n      <td>0</td>\n      <td>0</td>\n      <td>0</td>\n      <td>1</td>\n      <td>0</td>\n      <td>0</td>\n      <td>0</td>\n      <td>0</td>\n      <td>0</td>\n      <td>0</td>\n      <td>0</td>\n      <td>0</td>\n      <td>0</td>\n      <td>0</td>\n      <td>1</td>\n      <td>0</td>\n      <td>0</td>\n    </tr>\n    <tr>\n      <th>2</th>\n      <td>1.0</td>\n      <td>3</td>\n      <td>26.0</td>\n      <td>0</td>\n      <td>0</td>\n      <td>7.9250</td>\n      <td>0</td>\n      <td>0</td>\n      <td>3</td>\n      <td>-1</td>\n      <td>3101282</td>\n      <td>1</td>\n      <td>0</td>\n      <td>1</td>\n      <td>0</td>\n      <td>0</td>\n      <td>0</td>\n      <td>0</td>\n      <td>1</td>\n      <td>0</td>\n      <td>0</td>\n      <td>0</td>\n      <td>0</td>\n      <td>0</td>\n      <td>0</td>\n      <td>0</td>\n      <td>0</td>\n      <td>0</td>\n      <td>0</td>\n      <td>0</td>\n      <td>0</td>\n      <td>0</td>\n      <td>0</td>\n      <td>1</td>\n      <td>0</td>\n    </tr>\n    <tr>\n      <th>3</th>\n      <td>1.0</td>\n      <td>1</td>\n      <td>35.0</td>\n      <td>1</td>\n      <td>0</td>\n      <td>53.1000</td>\n      <td>0</td>\n      <td>0</td>\n      <td>7</td>\n      <td>123</td>\n      <td>113803</td>\n      <td>1</td>\n      <td>0</td>\n      <td>0</td>\n      <td>0</td>\n      <td>0</td>\n      <td>1</td>\n      <td>0</td>\n      <td>0</td>\n      <td>0</td>\n      <td>0</td>\n      <td>1</td>\n      <td>0</td>\n      <td>0</td>\n      <td>0</td>\n      <td>0</td>\n      <td>0</td>\n      <td>1</td>\n      <td>0</td>\n      <td>0</td>\n      <td>0</td>\n      <td>0</td>\n      <td>0</td>\n      <td>0</td>\n      <td>0</td>\n    </tr>\n    <tr>\n      <th>4</th>\n      <td>0.0</td>\n      <td>3</td>\n      <td>35.0</td>\n      <td>0</td>\n      <td>0</td>\n      <td>8.0500</td>\n      <td>0</td>\n      <td>0</td>\n      <td>4</td>\n      <td>-1</td>\n      <td>373450</td>\n      <td>0</td>\n      <td>1</td>\n      <td>0</td>\n      <td>0</td>\n      <td>1</td>\n      <td>0</td>\n      <td>0</td>\n      <td>1</td>\n      <td>0</td>\n      <td>0</td>\n      <td>0</td>\n      <td>0</td>\n      <td>0</td>\n      <td>0</td>\n      <td>0</td>\n      <td>0</td>\n      <td>1</td>\n      <td>0</td>\n      <td>0</td>\n      <td>0</td>\n      <td>0</td>\n      <td>0</td>\n      <td>0</td>\n      <td>0</td>\n    </tr>\n    <tr>\n      <th>...</th>\n      <td>...</td>\n      <td>...</td>\n      <td>...</td>\n      <td>...</td>\n      <td>...</td>\n      <td>...</td>\n      <td>...</td>\n      <td>...</td>\n      <td>...</td>\n      <td>...</td>\n      <td>...</td>\n      <td>...</td>\n      <td>...</td>\n      <td>...</td>\n      <td>...</td>\n      <td>...</td>\n      <td>...</td>\n      <td>...</td>\n      <td>...</td>\n      <td>...</td>\n      <td>...</td>\n      <td>...</td>\n      <td>...</td>\n      <td>...</td>\n      <td>...</td>\n      <td>...</td>\n      <td>...</td>\n      <td>...</td>\n      <td>...</td>\n      <td>...</td>\n      <td>...</td>\n      <td>...</td>\n      <td>...</td>\n      <td>...</td>\n      <td>...</td>\n    </tr>\n    <tr>\n      <th>413</th>\n      <td>NaN</td>\n      <td>3</td>\n      <td>28.0</td>\n      <td>0</td>\n      <td>0</td>\n      <td>8.0500</td>\n      <td>0</td>\n      <td>1</td>\n      <td>3</td>\n      <td>-1</td>\n      <td>3236</td>\n      <td>0</td>\n      <td>1</td>\n      <td>0</td>\n      <td>0</td>\n      <td>1</td>\n      <td>0</td>\n      <td>0</td>\n      <td>1</td>\n      <td>0</td>\n      <td>0</td>\n      <td>0</td>\n      <td>0</td>\n      <td>0</td>\n      <td>0</td>\n      <td>0</td>\n      <td>0</td>\n      <td>0</td>\n      <td>1</td>\n      <td>0</td>\n      <td>0</td>\n      <td>0</td>\n      <td>0</td>\n      <td>0</td>\n      <td>0</td>\n    </tr>\n    <tr>\n      <th>414</th>\n      <td>NaN</td>\n      <td>1</td>\n      <td>39.0</td>\n      <td>0</td>\n      <td>0</td>\n      <td>108.9000</td>\n      <td>1</td>\n      <td>1</td>\n      <td>5</td>\n      <td>105</td>\n      <td>17758</td>\n      <td>1</td>\n      <td>0</td>\n      <td>1</td>\n      <td>0</td>\n      <td>0</td>\n      <td>0</td>\n      <td>0</td>\n      <td>0</td>\n      <td>0</td>\n      <td>0</td>\n      <td>1</td>\n      <td>0</td>\n      <td>0</td>\n      <td>0</td>\n      <td>0</td>\n      <td>0</td>\n      <td>0</td>\n      <td>0</td>\n      <td>0</td>\n      <td>0</td>\n      <td>0</td>\n      <td>1</td>\n      <td>0</td>\n      <td>0</td>\n    </tr>\n    <tr>\n      <th>415</th>\n      <td>NaN</td>\n      <td>3</td>\n      <td>38.5</td>\n      <td>0</td>\n      <td>0</td>\n      <td>7.2500</td>\n      <td>0</td>\n      <td>1</td>\n      <td>4</td>\n      <td>-1</td>\n      <td>3101262</td>\n      <td>0</td>\n      <td>1</td>\n      <td>0</td>\n      <td>0</td>\n      <td>1</td>\n      <td>0</td>\n      <td>0</td>\n      <td>1</td>\n      <td>0</td>\n      <td>0</td>\n      <td>0</td>\n      <td>0</td>\n      <td>0</td>\n      <td>0</td>\n      <td>0</td>\n      <td>0</td>\n      <td>0</td>\n      <td>0</td>\n      <td>0</td>\n      <td>0</td>\n      <td>0</td>\n      <td>0</td>\n      <td>1</td>\n      <td>0</td>\n    </tr>\n    <tr>\n      <th>416</th>\n      <td>NaN</td>\n      <td>3</td>\n      <td>28.0</td>\n      <td>0</td>\n      <td>0</td>\n      <td>8.0500</td>\n      <td>0</td>\n      <td>1</td>\n      <td>3</td>\n      <td>-1</td>\n      <td>359309</td>\n      <td>0</td>\n      <td>1</td>\n      <td>0</td>\n      <td>0</td>\n      <td>1</td>\n      <td>0</td>\n      <td>0</td>\n      <td>1</td>\n      <td>0</td>\n      <td>0</td>\n      <td>0</td>\n      <td>0</td>\n      <td>0</td>\n      <td>0</td>\n      <td>0</td>\n      <td>0</td>\n      <td>1</td>\n      <td>0</td>\n      <td>0</td>\n      <td>0</td>\n      <td>0</td>\n      <td>0</td>\n      <td>0</td>\n      <td>0</td>\n    </tr>\n    <tr>\n      <th>417</th>\n      <td>NaN</td>\n      <td>3</td>\n      <td>28.0</td>\n      <td>1</td>\n      <td>1</td>\n      <td>22.3583</td>\n      <td>1</td>\n      <td>1</td>\n      <td>4</td>\n      <td>-1</td>\n      <td>2668</td>\n      <td>0</td>\n      <td>1</td>\n      <td>1</td>\n      <td>0</td>\n      <td>0</td>\n      <td>0</td>\n      <td>0</td>\n      <td>1</td>\n      <td>0</td>\n      <td>0</td>\n      <td>0</td>\n      <td>0</td>\n      <td>0</td>\n      <td>0</td>\n      <td>0</td>\n      <td>0</td>\n      <td>1</td>\n      <td>0</td>\n      <td>0</td>\n      <td>0</td>\n      <td>0</td>\n      <td>0</td>\n      <td>0</td>\n      <td>0</td>\n    </tr>\n  </tbody>\n</table>\n<p>1309 rows × 35 columns</p>\n</div>"
     },
     "metadata": {},
     "execution_count": 1
    }
   ],
   "source": [
    "import pandas as pd\n",
    "pd.options.display.max_columns = None\n",
    "# pd.options.display.max_rows = None\n",
    "\n",
    "from main import get_dataset, extract_feature\n",
    "_, dataset = get_dataset()\n",
    "\n",
    "dataset\n",
    "features = extract_feature(dataset)\n",
    "features"
   ]
  },
  {
   "cell_type": "code",
   "execution_count": null,
   "metadata": {
    "tags": []
   },
   "outputs": [],
   "source": [
    "%run main.py"
   ]
  },
  {
   "cell_type": "code",
   "execution_count": null,
   "metadata": {},
   "outputs": [],
   "source": [
    "dataset"
   ]
  },
  {
   "cell_type": "code",
   "execution_count": null,
   "metadata": {},
   "outputs": [],
   "source": [
    "features"
   ]
  },
  {
   "cell_type": "code",
   "execution_count": null,
   "metadata": {},
   "outputs": [],
   "source": []
  }
 ]
}